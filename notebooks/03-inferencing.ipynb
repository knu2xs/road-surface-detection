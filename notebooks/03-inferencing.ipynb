{
 "cells": [
  {
   "cell_type": "markdown",
   "metadata": {},
   "source": [
    "# Perform Inferencing\n",
    "\n",
    "Once we have a working model, it is time for the (hopefully) fun part. It is time to take the model for a test drive. We can load the model and test it against some data available for evaluating results not only on a single image, but on a video feed as well."
   ]
  },
  {
   "cell_type": "code",
   "execution_count": 1,
   "metadata": {},
   "outputs": [],
   "source": [
    "import os\n",
    "from pathlib import Path\n",
    "import sys\n",
    "import zipfile\n",
    "\n",
    "from arcgis.features import GeoAccessor\n",
    "from arcgis.gis import GIS\n",
    "from arcgis.learn import SingleShotDetector\n",
    "import pandas as pd"
   ]
  },
  {
   "cell_type": "code",
   "execution_count": 37,
   "metadata": {},
   "outputs": [
    {
     "name": "stdout",
     "output_type": "stream",
     "text": [
      "The autoreload extension is already loaded. To reload it, use:\n",
      "  %reload_ext autoreload\n"
     ]
    },
    {
     "data": {
      "text/html": [
       "GIS @ <a href=\"https://www.arcgis.com\">https://www.arcgis.com</a>"
      ],
      "text/plain": [
       "GIS @ https://www.arcgis.com version:8.4"
      ]
     },
     "execution_count": 37,
     "metadata": {},
     "output_type": "execute_result"
    }
   ],
   "source": [
    "# paths to common data locations - NOTE: to convert any path to a raw string, simply use str(path_instance)\n",
    "dir_prj = Path.cwd().parent\n",
    "\n",
    "dir_data = dir_prj/'data'\n",
    "\n",
    "dir_raw = dir_data/'raw'\n",
    "dir_int = dir_data/'interim'\n",
    "dir_out = dir_data/'processed'\n",
    "\n",
    "dir_models = dir_prj/'models'\n",
    "        \n",
    "# load the \"autoreload\" extension so that code can change, & always reload modules so that as you change code in src, it gets loaded\n",
    "%load_ext autoreload\n",
    "%autoreload 2\n",
    "\n",
    "# create a GIS object instance as anonymous access to ArcGIS Online\n",
    "gis = GIS()\n",
    "\n",
    "gis"
   ]
  },
  {
   "cell_type": "markdown",
   "metadata": {},
   "source": [
    "## Load the Model"
   ]
  },
  {
   "cell_type": "code",
   "execution_count": 30,
   "metadata": {},
   "outputs": [
    {
     "data": {
      "text/plain": [
       "WindowsPath('D:/projects/road-surface-detection/models/pavement-cracks-model-resnet101')"
      ]
     },
     "execution_count": 30,
     "metadata": {},
     "output_type": "execute_result"
    }
   ],
   "source": [
    "mdl_pth = dir_models / 'pavement-cracks-model-resnet101' \n",
    "\n",
    "mdl_pth"
   ]
  },
  {
   "cell_type": "code",
   "execution_count": 35,
   "metadata": {},
   "outputs": [
    {
     "ename": "TypeError",
     "evalue": "__init__() missing 1 required positional argument: 'data'",
     "output_type": "error",
     "traceback": [
      "\u001b[1;31m---------------------------------------------------------------------------\u001b[0m",
      "\u001b[1;31mTypeError\u001b[0m                                 Traceback (most recent call last)",
      "\u001b[1;32m<ipython-input-35-4fe266fefb42>\u001b[0m in \u001b[0;36m<module>\u001b[1;34m\u001b[0m\n\u001b[1;32m----> 1\u001b[1;33m \u001b[0mssd\u001b[0m \u001b[1;33m=\u001b[0m \u001b[0mSingleShotDetector\u001b[0m\u001b[1;33m(\u001b[0m\u001b[1;33m)\u001b[0m\u001b[1;33m.\u001b[0m\u001b[0mload\u001b[0m\u001b[1;33m(\u001b[0m\u001b[0mmdl_pth\u001b[0m\u001b[1;33m)\u001b[0m\u001b[1;33m\u001b[0m\u001b[1;33m\u001b[0m\u001b[0m\n\u001b[0m",
      "\u001b[1;31mTypeError\u001b[0m: __init__() missing 1 required positional argument: 'data'"
     ]
    }
   ],
   "source": [
    "ssd = SingleShotDetector().load(mdl_pth)"
   ]
  },
  {
   "cell_type": "code",
   "execution_count": 34,
   "metadata": {},
   "outputs": [
    {
     "data": {
      "text/plain": [
       "<SingleShotDetector>"
      ]
     },
     "execution_count": 34,
     "metadata": {},
     "output_type": "execute_result"
    }
   ],
   "source": [
    "ssd = SingleShotDetector.from_model(mdl_pth)\n",
    "\n",
    "ssd"
   ]
  },
  {
   "cell_type": "markdown",
   "metadata": {},
   "source": [
    "## Model inference\n",
    "\n",
    "We will do model inference using the two methods: `predict` and `predict_video`. Let's get the data required to predict on image and video."
   ]
  },
  {
   "cell_type": "code",
   "execution_count": 5,
   "metadata": {},
   "outputs": [
    {
     "data": {
      "text/html": [
       "<div class=\"item_container\" style=\"height: auto; overflow: hidden; border: 1px solid #cfcfcf; border-radius: 2px; background: #f6fafa; line-height: 1.21429em; padding: 10px;\">\n",
       "                    <div class=\"item_left\" style=\"width: 210px; float: left;\">\n",
       "                       <a href='https://www.arcgis.com/home/item.html?id=92a75cec191e4dbbb53067761287b977' target='_blank'>\n",
       "                        <img src='https://www.arcgis.com/sharing/rest//content/items/92a75cec191e4dbbb53067761287b977/info/thumbnail/ago_downloaded.png' class=\"itemThumbnail\">\n",
       "                       </a>\n",
       "                    </div>\n",
       "\n",
       "                    <div class=\"item_right\"     style=\"float: none; width: auto; overflow: hidden;\">\n",
       "                        <a href='https://www.arcgis.com/home/item.html?id=92a75cec191e4dbbb53067761287b977' target='_blank'><b>pavement_cracks_data_inference</b>\n",
       "                        </a>\n",
       "                        <br/><img src='https://www.arcgis.com/home/js/jsapi/esri/css/images/item_type_icons/layers16.png' style=\"vertical-align:middle;\">Image Collection by api_data_owner\n",
       "                        <br/>Last Modified: November 23, 2020\n",
       "                        <br/>0 comments, 10 views\n",
       "                    </div>\n",
       "                </div>\n",
       "                "
      ],
      "text/plain": [
       "<Item title:\"pavement_cracks_data_inference\" type:Image Collection owner:api_data_owner>"
      ]
     },
     "execution_count": 5,
     "metadata": {},
     "output_type": "execute_result"
    }
   ],
   "source": [
    "inf_itm = gis.content.get('92a75cec191e4dbbb53067761287b977')\n",
    "\n",
    "inf_itm"
   ]
  },
  {
   "cell_type": "code",
   "execution_count": 6,
   "metadata": {},
   "outputs": [
    {
     "data": {
      "text/plain": [
       "WindowsPath('D:/projects/road-surface-detection/data/raw/pavement_cracks_data_inference.zip')"
      ]
     },
     "execution_count": 6,
     "metadata": {},
     "output_type": "execute_result"
    }
   ],
   "source": [
    "inf_zip_pth = dir_raw / inf_itm.name\n",
    "\n",
    "if not inf_zip_pth.exists():\n",
    "    inf_itm.download(save_path=dir_raw, file_name=inf_itm.name)\n",
    "\n",
    "inf_zip_pth"
   ]
  },
  {
   "cell_type": "code",
   "execution_count": 7,
   "metadata": {},
   "outputs": [
    {
     "data": {
      "text/plain": [
       "WindowsPath('D:/projects/road-surface-detection/data/raw/pavement_cracks_data_inference')"
      ]
     },
     "execution_count": 7,
     "metadata": {},
     "output_type": "execute_result"
    }
   ],
   "source": [
    "with zipfile.ZipFile(inf_zip_pth, 'r') as zip_ref:\n",
    "    zip_ref.extractall(inf_zip_pth.parent)\n",
    "    \n",
    "dir_inf = inf_zip_pth.parent / inf_zip_pth.stem\n",
    "\n",
    "dir_inf"
   ]
  },
  {
   "cell_type": "code",
   "execution_count": 8,
   "metadata": {},
   "outputs": [
    {
     "data": {
      "text/plain": [
       "(WindowsPath('D:/projects/road-surface-detection/data/raw/pavement_cracks_data_inference/test_img.jpg'),\n",
       " WindowsPath('D:/projects/road-surface-detection/data/raw/pavement_cracks_data_inference/test_video.mp4'),\n",
       " WindowsPath('D:/projects/road-surface-detection/data/raw/pavement_cracks_data_inference/metadata.csv'))"
      ]
     },
     "execution_count": 8,
     "metadata": {},
     "output_type": "execute_result"
    }
   ],
   "source": [
    "img_file = dir_inf / 'test_img.jpg'\n",
    "video_file = dir_inf / 'test_video.mp4'\n",
    "metadata_file = dir_inf / 'metadata.csv'\n",
    "\n",
    "img_file, video_file, metadata_file"
   ]
  },
  {
   "cell_type": "markdown",
   "metadata": {},
   "source": [
    "### Detecting pavement cracks on an image"
   ]
  },
  {
   "cell_type": "code",
   "execution_count": 9,
   "metadata": {
    "scrolled": true
   },
   "outputs": [
    {
     "data": {
      "image/png": "[encoded data removed]",
      "text/plain": [
       "<Figure size 432x288 with 1 Axes>"
      ]
     },
     "metadata": {},
     "output_type": "display_data"
    }
   ],
   "source": [
    "bbox_data = ssd.predict(str(img_file), threshold=0.1, visualize=True)"
   ]
  },
  {
   "cell_type": "markdown",
   "metadata": {},
   "source": [
    "### Detecting pavement cracks from video feed"
   ]
  },
  {
   "cell_type": "code",
   "execution_count": 10,
   "metadata": {
    "scrolled": true
   },
   "outputs": [
    {
     "data": {
      "text/html": [
       "\n",
       "    <div>\n",
       "        <style>\n",
       "            /* Turns off some styling */\n",
       "            progress {\n",
       "                /* gets rid of default border in Firefox and Opera. */\n",
       "                border: none;\n",
       "                /* Needs to be in here for Safari polyfill so background images work as expected. */\n",
       "                background-size: auto;\n",
       "            }\n",
       "            .progress-bar-interrupted, .progress-bar-interrupted::-webkit-progress-bar {\n",
       "                background: #F44336;\n",
       "            }\n",
       "        </style>\n",
       "      <progress value='917' class='' max='917' style='width:300px; height:20px; vertical-align: middle;'></progress>\n",
       "      100.00% [917/917 00:56<00:00]\n",
       "    </div>\n",
       "    "
      ],
      "text/plain": [
       "<IPython.core.display.HTML object>"
      ]
     },
     "metadata": {},
     "output_type": "display_data"
    }
   ],
   "source": [
    "ssd.predict_video(input_video_path=str(video_file), metadata_file=metadata_file, visualize=True, resize=True)"
   ]
  },
  {
   "cell_type": "markdown",
   "metadata": {},
   "source": [
    "<video width=\"100%\" height=\"450\" loop=\"loop\" controls src=\"../../static/video/road_crack_prediction.mp4\" />"
   ]
  },
  {
   "cell_type": "markdown",
   "metadata": {},
   "source": [
    "## Publish results to your GIS"
   ]
  },
  {
   "cell_type": "markdown",
   "metadata": {},
   "source": [
    "The `predict_video` function also updates the metadata file provided in csv format with the detections at each frame. We will now read this csv using pandas and publish it as a layer on our GIS."
   ]
  },
  {
   "cell_type": "code",
   "execution_count": 11,
   "metadata": {},
   "outputs": [
    {
     "data": {
      "text/html": [
       "<div>\n",
       "<style scoped>\n",
       "    .dataframe tbody tr th:only-of-type {\n",
       "        vertical-align: middle;\n",
       "    }\n",
       "\n",
       "    .dataframe tbody tr th {\n",
       "        vertical-align: top;\n",
       "    }\n",
       "\n",
       "    .dataframe thead th {\n",
       "        text-align: right;\n",
       "    }\n",
       "</style>\n",
       "<table border=\"1\" class=\"dataframe\">\n",
       "  <thead>\n",
       "    <tr style=\"text-align: right;\">\n",
       "      <th></th>\n",
       "      <th>UNIX Time Stamp</th>\n",
       "      <th>Sensor Latitude</th>\n",
       "      <th>Sensor Longitude</th>\n",
       "      <th>Sensor True Altitude</th>\n",
       "      <th>Frame Center Latitude</th>\n",
       "      <th>Frame Center Longitude</th>\n",
       "      <th>Frame Center Elevation</th>\n",
       "      <th>vmtilocaldataset</th>\n",
       "    </tr>\n",
       "  </thead>\n",
       "  <tbody>\n",
       "    <tr>\n",
       "      <th>0</th>\n",
       "      <td>1.564889e+15</td>\n",
       "      <td>28.412995</td>\n",
       "      <td>77.162906</td>\n",
       "      <td>294.736633</td>\n",
       "      <td>28.412995</td>\n",
       "      <td>77.162906</td>\n",
       "      <td>294.736633</td>\n",
       "      <td>\\n</td>\n",
       "    </tr>\n",
       "    <tr>\n",
       "      <th>1</th>\n",
       "      <td>1.564889e+15</td>\n",
       "      <td>28.412995</td>\n",
       "      <td>77.162904</td>\n",
       "      <td>294.729656</td>\n",
       "      <td>28.412995</td>\n",
       "      <td>77.162904</td>\n",
       "      <td>294.729656</td>\n",
       "      <td>\\n</td>\n",
       "    </tr>\n",
       "    <tr>\n",
       "      <th>2</th>\n",
       "      <td>1.564889e+15</td>\n",
       "      <td>28.412996</td>\n",
       "      <td>77.162902</td>\n",
       "      <td>294.722680</td>\n",
       "      <td>28.412996</td>\n",
       "      <td>77.162902</td>\n",
       "      <td>294.722680</td>\n",
       "      <td>\\n</td>\n",
       "    </tr>\n",
       "    <tr>\n",
       "      <th>3</th>\n",
       "      <td>1.564889e+15</td>\n",
       "      <td>28.412997</td>\n",
       "      <td>77.162901</td>\n",
       "      <td>294.715703</td>\n",
       "      <td>28.412997</td>\n",
       "      <td>77.162901</td>\n",
       "      <td>294.715703</td>\n",
       "      <td>\\n</td>\n",
       "    </tr>\n",
       "    <tr>\n",
       "      <th>4</th>\n",
       "      <td>1.564889e+15</td>\n",
       "      <td>28.412997</td>\n",
       "      <td>77.162899</td>\n",
       "      <td>294.708546</td>\n",
       "      <td>28.412997</td>\n",
       "      <td>77.162899</td>\n",
       "      <td>294.708546</td>\n",
       "      <td>\\n</td>\n",
       "    </tr>\n",
       "    <tr>\n",
       "      <th>...</th>\n",
       "      <td>...</td>\n",
       "      <td>...</td>\n",
       "      <td>...</td>\n",
       "      <td>...</td>\n",
       "      <td>...</td>\n",
       "      <td>...</td>\n",
       "      <td>...</td>\n",
       "      <td>...</td>\n",
       "    </tr>\n",
       "    <tr>\n",
       "      <th>1794</th>\n",
       "      <td>1.564889e+15</td>\n",
       "      <td>28.414831</td>\n",
       "      <td>77.159583</td>\n",
       "      <td>278.085715</td>\n",
       "      <td>28.414831</td>\n",
       "      <td>77.159583</td>\n",
       "      <td>278.085715</td>\n",
       "      <td>NaN</td>\n",
       "    </tr>\n",
       "    <tr>\n",
       "      <th>1795</th>\n",
       "      <td>1.564889e+15</td>\n",
       "      <td>28.414831</td>\n",
       "      <td>77.159581</td>\n",
       "      <td>278.076278</td>\n",
       "      <td>28.414831</td>\n",
       "      <td>77.159581</td>\n",
       "      <td>278.076278</td>\n",
       "      <td>NaN</td>\n",
       "    </tr>\n",
       "    <tr>\n",
       "      <th>1796</th>\n",
       "      <td>1.564889e+15</td>\n",
       "      <td>28.414830</td>\n",
       "      <td>77.159578</td>\n",
       "      <td>278.066841</td>\n",
       "      <td>28.414830</td>\n",
       "      <td>77.159578</td>\n",
       "      <td>278.066841</td>\n",
       "      <td>NaN</td>\n",
       "    </tr>\n",
       "    <tr>\n",
       "      <th>1797</th>\n",
       "      <td>1.564889e+15</td>\n",
       "      <td>28.414830</td>\n",
       "      <td>77.159576</td>\n",
       "      <td>278.057561</td>\n",
       "      <td>28.414830</td>\n",
       "      <td>77.159576</td>\n",
       "      <td>278.057561</td>\n",
       "      <td>NaN</td>\n",
       "    </tr>\n",
       "    <tr>\n",
       "      <th>1798</th>\n",
       "      <td>1.564889e+15</td>\n",
       "      <td>28.414829</td>\n",
       "      <td>77.159574</td>\n",
       "      <td>278.047585</td>\n",
       "      <td>28.414829</td>\n",
       "      <td>77.159574</td>\n",
       "      <td>278.047585</td>\n",
       "      <td>NaN</td>\n",
       "    </tr>\n",
       "  </tbody>\n",
       "</table>\n",
       "<p>1799 rows × 8 columns</p>\n",
       "</div>"
      ],
      "text/plain": [
       "      UNIX Time Stamp  Sensor Latitude  Sensor Longitude  \\\n",
       "0        1.564889e+15        28.412995         77.162906   \n",
       "1        1.564889e+15        28.412995         77.162904   \n",
       "2        1.564889e+15        28.412996         77.162902   \n",
       "3        1.564889e+15        28.412997         77.162901   \n",
       "4        1.564889e+15        28.412997         77.162899   \n",
       "...               ...              ...               ...   \n",
       "1794     1.564889e+15        28.414831         77.159583   \n",
       "1795     1.564889e+15        28.414831         77.159581   \n",
       "1796     1.564889e+15        28.414830         77.159578   \n",
       "1797     1.564889e+15        28.414830         77.159576   \n",
       "1798     1.564889e+15        28.414829         77.159574   \n",
       "\n",
       "      Sensor True Altitude  Frame Center Latitude  Frame Center Longitude  \\\n",
       "0               294.736633              28.412995               77.162906   \n",
       "1               294.729656              28.412995               77.162904   \n",
       "2               294.722680              28.412996               77.162902   \n",
       "3               294.715703              28.412997               77.162901   \n",
       "4               294.708546              28.412997               77.162899   \n",
       "...                    ...                    ...                     ...   \n",
       "1794            278.085715              28.414831               77.159583   \n",
       "1795            278.076278              28.414831               77.159581   \n",
       "1796            278.066841              28.414830               77.159578   \n",
       "1797            278.057561              28.414830               77.159576   \n",
       "1798            278.047585              28.414829               77.159574   \n",
       "\n",
       "      Frame Center Elevation vmtilocaldataset  \n",
       "0                 294.736633               \\n  \n",
       "1                 294.729656               \\n  \n",
       "2                 294.722680               \\n  \n",
       "3                 294.715703               \\n  \n",
       "4                 294.708546               \\n  \n",
       "...                      ...              ...  \n",
       "1794              278.085715              NaN  \n",
       "1795              278.076278              NaN  \n",
       "1796              278.066841              NaN  \n",
       "1797              278.057561              NaN  \n",
       "1798              278.047585              NaN  \n",
       "\n",
       "[1799 rows x 8 columns]"
      ]
     },
     "execution_count": 11,
     "metadata": {},
     "output_type": "execute_result"
    }
   ],
   "source": [
    "inf_df = pd.read_csv(metadata_file)\n",
    "\n",
    "inf_df"
   ]
  },
  {
   "cell_type": "markdown",
   "metadata": {},
   "source": [
    "The code below removes rows from the DataFrame with no detections and also creates a new columns which contains count of the number of detections at each frame."
   ]
  },
  {
   "cell_type": "code",
   "execution_count": 12,
   "metadata": {},
   "outputs": [
    {
     "data": {
      "text/html": [
       "<div>\n",
       "<style scoped>\n",
       "    .dataframe tbody tr th:only-of-type {\n",
       "        vertical-align: middle;\n",
       "    }\n",
       "\n",
       "    .dataframe tbody tr th {\n",
       "        vertical-align: top;\n",
       "    }\n",
       "\n",
       "    .dataframe thead th {\n",
       "        text-align: right;\n",
       "    }\n",
       "</style>\n",
       "<table border=\"1\" class=\"dataframe\">\n",
       "  <thead>\n",
       "    <tr style=\"text-align: right;\">\n",
       "      <th></th>\n",
       "      <th>UNIX Time Stamp</th>\n",
       "      <th>Sensor Latitude</th>\n",
       "      <th>Sensor Longitude</th>\n",
       "      <th>Sensor True Altitude</th>\n",
       "      <th>Frame Center Latitude</th>\n",
       "      <th>Frame Center Longitude</th>\n",
       "      <th>Frame Center Elevation</th>\n",
       "      <th>vmtilocaldataset</th>\n",
       "      <th>count</th>\n",
       "    </tr>\n",
       "  </thead>\n",
       "  <tbody>\n",
       "    <tr>\n",
       "      <th>0</th>\n",
       "      <td>1.564889e+15</td>\n",
       "      <td>28.412995</td>\n",
       "      <td>77.162906</td>\n",
       "      <td>294.736633</td>\n",
       "      <td>28.412995</td>\n",
       "      <td>77.162906</td>\n",
       "      <td>294.736633</td>\n",
       "      <td></td>\n",
       "      <td>0.0</td>\n",
       "    </tr>\n",
       "    <tr>\n",
       "      <th>1</th>\n",
       "      <td>1.564889e+15</td>\n",
       "      <td>28.412995</td>\n",
       "      <td>77.162904</td>\n",
       "      <td>294.729656</td>\n",
       "      <td>28.412995</td>\n",
       "      <td>77.162904</td>\n",
       "      <td>294.729656</td>\n",
       "      <td></td>\n",
       "      <td>0.0</td>\n",
       "    </tr>\n",
       "    <tr>\n",
       "      <th>2</th>\n",
       "      <td>1.564889e+15</td>\n",
       "      <td>28.412996</td>\n",
       "      <td>77.162902</td>\n",
       "      <td>294.722680</td>\n",
       "      <td>28.412996</td>\n",
       "      <td>77.162902</td>\n",
       "      <td>294.722680</td>\n",
       "      <td></td>\n",
       "      <td>0.0</td>\n",
       "    </tr>\n",
       "    <tr>\n",
       "      <th>3</th>\n",
       "      <td>1.564889e+15</td>\n",
       "      <td>28.412997</td>\n",
       "      <td>77.162901</td>\n",
       "      <td>294.715703</td>\n",
       "      <td>28.412997</td>\n",
       "      <td>77.162901</td>\n",
       "      <td>294.715703</td>\n",
       "      <td></td>\n",
       "      <td>0.0</td>\n",
       "    </tr>\n",
       "    <tr>\n",
       "      <th>4</th>\n",
       "      <td>1.564889e+15</td>\n",
       "      <td>28.412997</td>\n",
       "      <td>77.162899</td>\n",
       "      <td>294.708546</td>\n",
       "      <td>28.412997</td>\n",
       "      <td>77.162899</td>\n",
       "      <td>294.708546</td>\n",
       "      <td></td>\n",
       "      <td>0.0</td>\n",
       "    </tr>\n",
       "  </tbody>\n",
       "</table>\n",
       "</div>"
      ],
      "text/plain": [
       "   UNIX Time Stamp  Sensor Latitude  Sensor Longitude  Sensor True Altitude  \\\n",
       "0     1.564889e+15        28.412995         77.162906            294.736633   \n",
       "1     1.564889e+15        28.412995         77.162904            294.729656   \n",
       "2     1.564889e+15        28.412996         77.162902            294.722680   \n",
       "3     1.564889e+15        28.412997         77.162901            294.715703   \n",
       "4     1.564889e+15        28.412997         77.162899            294.708546   \n",
       "\n",
       "   Frame Center Latitude  Frame Center Longitude  Frame Center Elevation  \\\n",
       "0              28.412995               77.162906              294.736633   \n",
       "1              28.412995               77.162904              294.729656   \n",
       "2              28.412996               77.162902              294.722680   \n",
       "3              28.412997               77.162901              294.715703   \n",
       "4              28.412997               77.162899              294.708546   \n",
       "\n",
       "  vmtilocaldataset  count  \n",
       "0                     0.0  \n",
       "1                     0.0  \n",
       "2                     0.0  \n",
       "3                     0.0  \n",
       "4                     0.0  "
      ]
     },
     "execution_count": 12,
     "metadata": {},
     "output_type": "execute_result"
    }
   ],
   "source": [
    "# Handle NAN and '\\n' values\n",
    "inf_df.vmtilocaldataset = inf_df.vmtilocaldataset.str.strip()\n",
    "inf_df.loc[inf_df.vmtilocaldataset == '', 'vmtilocaldataset'] = ''\n",
    "inf_df['count'] = ( inf_df['vmtilocaldataset'].str.split(';').str.len().fillna(1) - 1 )\n",
    "\n",
    "inf_df.head()"
   ]
  },
  {
   "cell_type": "code",
   "execution_count": 13,
   "metadata": {},
   "outputs": [
    {
     "data": {
      "text/html": [
       "<div>\n",
       "<style scoped>\n",
       "    .dataframe tbody tr th:only-of-type {\n",
       "        vertical-align: middle;\n",
       "    }\n",
       "\n",
       "    .dataframe tbody tr th {\n",
       "        vertical-align: top;\n",
       "    }\n",
       "\n",
       "    .dataframe thead th {\n",
       "        text-align: right;\n",
       "    }\n",
       "</style>\n",
       "<table border=\"1\" class=\"dataframe\">\n",
       "  <thead>\n",
       "    <tr style=\"text-align: right;\">\n",
       "      <th></th>\n",
       "      <th>UNIX Time Stamp</th>\n",
       "      <th>Sensor Latitude</th>\n",
       "      <th>Sensor Longitude</th>\n",
       "      <th>Sensor True Altitude</th>\n",
       "      <th>Frame Center Latitude</th>\n",
       "      <th>Frame Center Longitude</th>\n",
       "      <th>Frame Center Elevation</th>\n",
       "      <th>vmtilocaldataset</th>\n",
       "      <th>count</th>\n",
       "      <th>group</th>\n",
       "    </tr>\n",
       "  </thead>\n",
       "  <tbody>\n",
       "    <tr>\n",
       "      <th>1794</th>\n",
       "      <td>1.564889e+15</td>\n",
       "      <td>28.414831</td>\n",
       "      <td>77.159583</td>\n",
       "      <td>278.085715</td>\n",
       "      <td>28.414831</td>\n",
       "      <td>77.159583</td>\n",
       "      <td>278.085715</td>\n",
       "      <td>NaN</td>\n",
       "      <td>0.0</td>\n",
       "      <td>29.0</td>\n",
       "    </tr>\n",
       "    <tr>\n",
       "      <th>1795</th>\n",
       "      <td>1.564889e+15</td>\n",
       "      <td>28.414831</td>\n",
       "      <td>77.159581</td>\n",
       "      <td>278.076278</td>\n",
       "      <td>28.414831</td>\n",
       "      <td>77.159581</td>\n",
       "      <td>278.076278</td>\n",
       "      <td>NaN</td>\n",
       "      <td>0.0</td>\n",
       "      <td>29.0</td>\n",
       "    </tr>\n",
       "    <tr>\n",
       "      <th>1796</th>\n",
       "      <td>1.564889e+15</td>\n",
       "      <td>28.414830</td>\n",
       "      <td>77.159578</td>\n",
       "      <td>278.066841</td>\n",
       "      <td>28.414830</td>\n",
       "      <td>77.159578</td>\n",
       "      <td>278.066841</td>\n",
       "      <td>NaN</td>\n",
       "      <td>0.0</td>\n",
       "      <td>29.0</td>\n",
       "    </tr>\n",
       "    <tr>\n",
       "      <th>1797</th>\n",
       "      <td>1.564889e+15</td>\n",
       "      <td>28.414830</td>\n",
       "      <td>77.159576</td>\n",
       "      <td>278.057561</td>\n",
       "      <td>28.414830</td>\n",
       "      <td>77.159576</td>\n",
       "      <td>278.057561</td>\n",
       "      <td>NaN</td>\n",
       "      <td>0.0</td>\n",
       "      <td>29.0</td>\n",
       "    </tr>\n",
       "    <tr>\n",
       "      <th>1798</th>\n",
       "      <td>1.564889e+15</td>\n",
       "      <td>28.414829</td>\n",
       "      <td>77.159574</td>\n",
       "      <td>278.047585</td>\n",
       "      <td>28.414829</td>\n",
       "      <td>77.159574</td>\n",
       "      <td>278.047585</td>\n",
       "      <td>NaN</td>\n",
       "      <td>0.0</td>\n",
       "      <td>29.0</td>\n",
       "    </tr>\n",
       "  </tbody>\n",
       "</table>\n",
       "</div>"
      ],
      "text/plain": [
       "      UNIX Time Stamp  Sensor Latitude  Sensor Longitude  \\\n",
       "1794     1.564889e+15        28.414831         77.159583   \n",
       "1795     1.564889e+15        28.414831         77.159581   \n",
       "1796     1.564889e+15        28.414830         77.159578   \n",
       "1797     1.564889e+15        28.414830         77.159576   \n",
       "1798     1.564889e+15        28.414829         77.159574   \n",
       "\n",
       "      Sensor True Altitude  Frame Center Latitude  Frame Center Longitude  \\\n",
       "1794            278.085715              28.414831               77.159583   \n",
       "1795            278.076278              28.414831               77.159581   \n",
       "1796            278.066841              28.414830               77.159578   \n",
       "1797            278.057561              28.414830               77.159576   \n",
       "1798            278.047585              28.414829               77.159574   \n",
       "\n",
       "      Frame Center Elevation vmtilocaldataset  count  group  \n",
       "1794              278.085715              NaN    0.0   29.0  \n",
       "1795              278.076278              NaN    0.0   29.0  \n",
       "1796              278.066841              NaN    0.0   29.0  \n",
       "1797              278.057561              NaN    0.0   29.0  \n",
       "1798              278.047585              NaN    0.0   29.0  "
      ]
     },
     "execution_count": 13,
     "metadata": {},
     "output_type": "execute_result"
    }
   ],
   "source": [
    "fps = 60\n",
    "\n",
    "inf_df['group'] = pd.Series( (inf_df.index.values / fps) - .49 ).round().abs()\n",
    "\n",
    "inf_df.tail()"
   ]
  },
  {
   "cell_type": "code",
   "execution_count": 14,
   "metadata": {},
   "outputs": [
    {
     "data": {
      "text/plain": [
       "array([   0,   60,  130,  180,  246,  302,  405,  424,  482,  540,  600,  678,  720,  820,  885,  900,  960, 1020,\n",
       "       1080, 1140, 1200, 1260, 1320, 1380, 1440, 1500, 1560, 1620, 1680, 1740], dtype=int64)"
      ]
     },
     "execution_count": 14,
     "metadata": {},
     "output_type": "execute_result"
    }
   ],
   "source": [
    "# Get index of row with max detections in each group\n",
    "max_detection_idxes = inf_df[['group', 'count']].groupby('group').idxmax()['count'].values\n",
    "\n",
    "max_detection_idxes"
   ]
  },
  {
   "cell_type": "code",
   "execution_count": 15,
   "metadata": {
    "scrolled": true
   },
   "outputs": [],
   "source": [
    "# Extract rows for the indexes\n",
    "df_flt = inf_df.iloc[max_detection_idxes]"
   ]
  },
  {
   "cell_type": "code",
   "execution_count": 16,
   "metadata": {},
   "outputs": [
    {
     "data": {
      "text/html": [
       "<div>\n",
       "<style scoped>\n",
       "    .dataframe tbody tr th:only-of-type {\n",
       "        vertical-align: middle;\n",
       "    }\n",
       "\n",
       "    .dataframe tbody tr th {\n",
       "        vertical-align: top;\n",
       "    }\n",
       "\n",
       "    .dataframe thead th {\n",
       "        text-align: right;\n",
       "    }\n",
       "</style>\n",
       "<table border=\"1\" class=\"dataframe\">\n",
       "  <thead>\n",
       "    <tr style=\"text-align: right;\">\n",
       "      <th></th>\n",
       "      <th>UNIX Time Stamp</th>\n",
       "      <th>Sensor Latitude</th>\n",
       "      <th>Sensor Longitude</th>\n",
       "      <th>Sensor True Altitude</th>\n",
       "      <th>Frame Center Latitude</th>\n",
       "      <th>Frame Center Longitude</th>\n",
       "      <th>Frame Center Elevation</th>\n",
       "      <th>vmtilocaldataset</th>\n",
       "      <th>count</th>\n",
       "      <th>group</th>\n",
       "      <th>SHAPE</th>\n",
       "    </tr>\n",
       "  </thead>\n",
       "  <tbody>\n",
       "    <tr>\n",
       "      <th>130</th>\n",
       "      <td>1.564889e+15</td>\n",
       "      <td>28.413087</td>\n",
       "      <td>77.162667</td>\n",
       "      <td>293.931796</td>\n",
       "      <td>28.413087</td>\n",
       "      <td>77.162667</td>\n",
       "      <td>293.931796</td>\n",
       "      <td>1 54.02768850326538 1504652 2067840 1787205;</td>\n",
       "      <td>1.0</td>\n",
       "      <td>2.0</td>\n",
       "      <td>{\"spatialReference\": {\"wkid\": 4326}, \"x\": 77.1...</td>\n",
       "    </tr>\n",
       "    <tr>\n",
       "      <th>180</th>\n",
       "      <td>1.564889e+15</td>\n",
       "      <td>28.413130</td>\n",
       "      <td>77.162573</td>\n",
       "      <td>293.577866</td>\n",
       "      <td>28.413130</td>\n",
       "      <td>77.162573</td>\n",
       "      <td>293.577866</td>\n",
       "      <td>1 56.72200322151184 1527613 2069760 1798686;</td>\n",
       "      <td>1.0</td>\n",
       "      <td>3.0</td>\n",
       "      <td>{\"spatialReference\": {\"wkid\": 4326}, \"x\": 77.1...</td>\n",
       "    </tr>\n",
       "    <tr>\n",
       "      <th>246</th>\n",
       "      <td>1.564889e+15</td>\n",
       "      <td>28.413196</td>\n",
       "      <td>77.162448</td>\n",
       "      <td>293.090740</td>\n",
       "      <td>28.413196</td>\n",
       "      <td>77.162448</td>\n",
       "      <td>293.090740</td>\n",
       "      <td>1 50.19106864929199 1646772 2065906 1858259;</td>\n",
       "      <td>1.0</td>\n",
       "      <td>4.0</td>\n",
       "      <td>{\"spatialReference\": {\"wkid\": 4326}, \"x\": 77.1...</td>\n",
       "    </tr>\n",
       "    <tr>\n",
       "      <th>302</th>\n",
       "      <td>1.564889e+15</td>\n",
       "      <td>28.413259</td>\n",
       "      <td>77.162343</td>\n",
       "      <td>292.778962</td>\n",
       "      <td>28.413259</td>\n",
       "      <td>77.162343</td>\n",
       "      <td>292.778962</td>\n",
       "      <td>1 50.52756071090698 1470720 2070324 1772442;</td>\n",
       "      <td>1.0</td>\n",
       "      <td>5.0</td>\n",
       "      <td>{\"spatialReference\": {\"wkid\": 4326}, \"x\": 77.1...</td>\n",
       "    </tr>\n",
       "    <tr>\n",
       "      <th>405</th>\n",
       "      <td>1.564889e+15</td>\n",
       "      <td>28.413394</td>\n",
       "      <td>77.162152</td>\n",
       "      <td>292.410324</td>\n",
       "      <td>28.413394</td>\n",
       "      <td>77.162152</td>\n",
       "      <td>292.410324</td>\n",
       "      <td>1 57.28030204772949 1169310 2072378 1620843;</td>\n",
       "      <td>1.0</td>\n",
       "      <td>6.0</td>\n",
       "      <td>{\"spatialReference\": {\"wkid\": 4326}, \"x\": 77.1...</td>\n",
       "    </tr>\n",
       "  </tbody>\n",
       "</table>\n",
       "</div>"
      ],
      "text/plain": [
       "     UNIX Time Stamp  Sensor Latitude  Sensor Longitude  Sensor True Altitude  \\\n",
       "130     1.564889e+15        28.413087         77.162667            293.931796   \n",
       "180     1.564889e+15        28.413130         77.162573            293.577866   \n",
       "246     1.564889e+15        28.413196         77.162448            293.090740   \n",
       "302     1.564889e+15        28.413259         77.162343            292.778962   \n",
       "405     1.564889e+15        28.413394         77.162152            292.410324   \n",
       "\n",
       "     Frame Center Latitude  Frame Center Longitude  Frame Center Elevation  \\\n",
       "130              28.413087               77.162667              293.931796   \n",
       "180              28.413130               77.162573              293.577866   \n",
       "246              28.413196               77.162448              293.090740   \n",
       "302              28.413259               77.162343              292.778962   \n",
       "405              28.413394               77.162152              292.410324   \n",
       "\n",
       "                                 vmtilocaldataset  count  group  \\\n",
       "130  1 54.02768850326538 1504652 2067840 1787205;    1.0    2.0   \n",
       "180  1 56.72200322151184 1527613 2069760 1798686;    1.0    3.0   \n",
       "246  1 50.19106864929199 1646772 2065906 1858259;    1.0    4.0   \n",
       "302  1 50.52756071090698 1470720 2070324 1772442;    1.0    5.0   \n",
       "405  1 57.28030204772949 1169310 2072378 1620843;    1.0    6.0   \n",
       "\n",
       "                                                 SHAPE  \n",
       "130  {\"spatialReference\": {\"wkid\": 4326}, \"x\": 77.1...  \n",
       "180  {\"spatialReference\": {\"wkid\": 4326}, \"x\": 77.1...  \n",
       "246  {\"spatialReference\": {\"wkid\": 4326}, \"x\": 77.1...  \n",
       "302  {\"spatialReference\": {\"wkid\": 4326}, \"x\": 77.1...  \n",
       "405  {\"spatialReference\": {\"wkid\": 4326}, \"x\": 77.1...  "
      ]
     },
     "execution_count": 16,
     "metadata": {},
     "output_type": "execute_result"
    }
   ],
   "source": [
    "sdf = pd.DataFrame.spatial.from_xy(df_flt.loc[inf_df['count']!=0].copy(), 'Sensor Longitude', 'Sensor Latitude')\n",
    "\n",
    "sdf.head()"
   ]
  },
  {
   "cell_type": "code",
   "execution_count": 25,
   "metadata": {},
   "outputs": [
    {
     "data": {
      "application/vnd.jupyter.widget-view+json": {
       "model_id": "9268f663024645858e51766b86361698",
       "version_major": 2,
       "version_minor": 0
      },
      "text/plain": [
       "MapView(layout=Layout(height='400px', width='100%'))"
      ]
     },
     "metadata": {},
     "output_type": "display_data"
    },
    {
     "data": {
      "text/html": [
       "<div class=\"map-static-img-preview-c004078e-5c88-4600-bb6d-62694a377640\"><img src=\"\"></img></div>"
      ],
      "text/plain": [
       "<IPython.core.display.HTML object>"
      ]
     },
     "metadata": {},
     "output_type": "display_data"
    },
    {
     "data": {
      "text/html": [
       "<div class=\"map-html-embed-preview-c004078e-5c88-4600-bb6d-62694a377640\"></div>"
      ],
      "text/plain": [
       "<IPython.core.display.HTML object>"
      ]
     },
     "metadata": {},
     "output_type": "display_data"
    }
   ],
   "source": [
    "webmap = sdf.spatial.plot(\n",
    "    renderer_type='c',  # for class breaks renderer\n",
    "    method='esriClassifyNaturalBreaks',  # classification algorithm\n",
    "    class_count=20,  # choose the number of classes\n",
    "    col='count',  # numeric column to classify\n",
    "    cmap='gnuplot2_r',  # color map to pick colors from for each class\n",
    "    alpha=1  # specify opacity\n",
    ")\n",
    "webmap.basemap = \"satellite\"\n",
    "webmap"
   ]
  },
  {
   "cell_type": "code",
   "execution_count": null,
   "metadata": {},
   "outputs": [],
   "source": []
  }
 ],
 "metadata": {
  "esriNotebookRuntime": {
   "notebookRuntimeName": "ArcGIS Notebook Python 3 Standard",
   "notebookRuntimeVersion": "4.0"
  },
  "kernelspec": {
   "display_name": "Python 3",
   "language": "python",
   "name": "python3"
  },
  "language_info": {
   "codemirror_mode": {
    "name": "ipython",
    "version": 3
   },
   "file_extension": ".py",
   "mimetype": "text/x-python",
   "name": "python",
   "nbconvert_exporter": "python",
   "pygments_lexer": "ipython3",
   "version": "3.7.9"
  }
 },
 "nbformat": 4,
 "nbformat_minor": 4
}
